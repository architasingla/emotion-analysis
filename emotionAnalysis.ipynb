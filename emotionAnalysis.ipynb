{
  "nbformat": 4,
  "nbformat_minor": 0,
  "metadata": {
    "colab": {
      "provenance": []
    },
    "kernelspec": {
      "name": "python3",
      "display_name": "Python 3"
    },
    "language_info": {
      "name": "python"
    }
  },
  "cells": [
    {
      "cell_type": "code",
      "source": [
        "! pip install kaggle\n",
        "! mkdir ~/.kaggle\n",
        "! cp ./kaggle.json ~/.kaggle/\n",
        "! chmod 600 ~/.kaggle/kaggle.json"
      ],
      "metadata": {
        "colab": {
          "base_uri": "https://localhost:8080/"
        },
        "id": "YJBvmAwTUMRq",
        "outputId": "902fc2a4-f43e-421c-a38e-3609823fa24a"
      },
      "execution_count": 2,
      "outputs": [
        {
          "output_type": "stream",
          "name": "stdout",
          "text": [
            "Requirement already satisfied: kaggle in /usr/local/lib/python3.10/dist-packages (1.5.13)\n",
            "Requirement already satisfied: six>=1.10 in /usr/local/lib/python3.10/dist-packages (from kaggle) (1.16.0)\n",
            "Requirement already satisfied: certifi in /usr/local/lib/python3.10/dist-packages (from kaggle) (2023.5.7)\n",
            "Requirement already satisfied: python-dateutil in /usr/local/lib/python3.10/dist-packages (from kaggle) (2.8.2)\n",
            "Requirement already satisfied: requests in /usr/local/lib/python3.10/dist-packages (from kaggle) (2.27.1)\n",
            "Requirement already satisfied: tqdm in /usr/local/lib/python3.10/dist-packages (from kaggle) (4.65.0)\n",
            "Requirement already satisfied: python-slugify in /usr/local/lib/python3.10/dist-packages (from kaggle) (8.0.1)\n",
            "Requirement already satisfied: urllib3 in /usr/local/lib/python3.10/dist-packages (from kaggle) (1.26.16)\n",
            "Requirement already satisfied: text-unidecode>=1.3 in /usr/local/lib/python3.10/dist-packages (from python-slugify->kaggle) (1.3)\n",
            "Requirement already satisfied: charset-normalizer~=2.0.0 in /usr/local/lib/python3.10/dist-packages (from requests->kaggle) (2.0.12)\n",
            "Requirement already satisfied: idna<4,>=2.5 in /usr/local/lib/python3.10/dist-packages (from requests->kaggle) (3.4)\n"
          ]
        }
      ]
    },
    {
      "cell_type": "code",
      "execution_count": 3,
      "metadata": {
        "colab": {
          "base_uri": "https://localhost:8080/"
        },
        "id": "aM9PxpoUT-dd",
        "outputId": "f003681a-de43-4ca9-c8c3-831245367c4b"
      },
      "outputs": [
        {
          "output_type": "stream",
          "name": "stdout",
          "text": [
            "Downloading emotions-dataset-for-nlp.zip to /content\n",
            "\r  0% 0.00/721k [00:00<?, ?B/s]\n",
            "\r100% 721k/721k [00:00<00:00, 84.8MB/s]\n"
          ]
        }
      ],
      "source": [
        "!kaggle datasets download -d praveengovi/emotions-dataset-for-nlp"
      ]
    },
    {
      "cell_type": "code",
      "source": [
        "!unzip /content/emotions-dataset-for-nlp.zip"
      ],
      "metadata": {
        "colab": {
          "base_uri": "https://localhost:8080/"
        },
        "id": "akUSNvrKVCTZ",
        "outputId": "7a788e63-d47f-4eea-8b94-81e0d951e4fd"
      },
      "execution_count": 4,
      "outputs": [
        {
          "output_type": "stream",
          "name": "stdout",
          "text": [
            "Archive:  /content/emotions-dataset-for-nlp.zip\n",
            "  inflating: test.txt                \n",
            "  inflating: train.txt               \n",
            "  inflating: val.txt                 \n"
          ]
        }
      ]
    },
    {
      "cell_type": "code",
      "source": [
        "import pandas as pd\n",
        "import matplotlib.pyplot as plt\n",
        "import seaborn as sns\n",
        "from wordcloud import WordCloud\n",
        "import re"
      ],
      "metadata": {
        "id": "nxhqRJlDVHXd"
      },
      "execution_count": 5,
      "outputs": []
    },
    {
      "cell_type": "code",
      "source": [
        "dfTrain = pd.read_csv('train.txt', delimiter = ';', names = ['text', 'label'])\n",
        "dfVal = pd.read_csv('val.txt', delimiter = ';', names = ['text', 'label'])"
      ],
      "metadata": {
        "id": "dFq7gfPIV9St"
      },
      "execution_count": 9,
      "outputs": []
    },
    {
      "cell_type": "code",
      "source": [
        "len(dfTrain)"
      ],
      "metadata": {
        "colab": {
          "base_uri": "https://localhost:8080/"
        },
        "id": "CIi6LllhXf76",
        "outputId": "e6c3a412-3580-4fa5-98e4-fa78ee546aa0"
      },
      "execution_count": 10,
      "outputs": [
        {
          "output_type": "execute_result",
          "data": {
            "text/plain": [
              "16000"
            ]
          },
          "metadata": {},
          "execution_count": 10
        }
      ]
    },
    {
      "cell_type": "code",
      "source": [
        "dfTrain.label.unique()"
      ],
      "metadata": {
        "colab": {
          "base_uri": "https://localhost:8080/"
        },
        "id": "gPvzWdIVWplZ",
        "outputId": "6bdd1221-2139-4a6e-d889-4d20e49a1bba"
      },
      "execution_count": 11,
      "outputs": [
        {
          "output_type": "execute_result",
          "data": {
            "text/plain": [
              "array(['sadness', 'anger', 'love', 'surprise', 'fear', 'joy'],\n",
              "      dtype=object)"
            ]
          },
          "metadata": {},
          "execution_count": 11
        }
      ]
    },
    {
      "cell_type": "code",
      "source": [
        "dfTest = pd.read_csv('test.txt', delimiter = ';', names = ['text', 'label'])"
      ],
      "metadata": {
        "id": "iwVSYcFCXoGv"
      },
      "execution_count": 14,
      "outputs": []
    },
    {
      "cell_type": "code",
      "source": [
        "dfTest.shape"
      ],
      "metadata": {
        "colab": {
          "base_uri": "https://localhost:8080/"
        },
        "id": "2E5kotRWXwpp",
        "outputId": "b0550697-8992-4204-fea5-9076c9bd0439"
      },
      "execution_count": 15,
      "outputs": [
        {
          "output_type": "execute_result",
          "data": {
            "text/plain": [
              "(2000, 2)"
            ]
          },
          "metadata": {},
          "execution_count": 15
        }
      ]
    },
    {
      "cell_type": "code",
      "source": [
        "dfTrain['enco'] = le.fit_transform(dfTrain['label'])\n",
        "dfVal['enco'] = le.transform(dfVal['label'])\n",
        "dfTest['enco'] = le.transform(dfTest['label'])"
      ],
      "metadata": {
        "id": "W9l0SbHgmf7W"
      },
      "execution_count": 20,
      "outputs": []
    },
    {
      "cell_type": "code",
      "source": [
        "dfTrain"
      ],
      "metadata": {
        "colab": {
          "base_uri": "https://localhost:8080/",
          "height": 423
        },
        "id": "G6OegTS3oUUn",
        "outputId": "2e2a8341-99ea-436c-f02d-6f7617bd2a20"
      },
      "execution_count": 21,
      "outputs": [
        {
          "output_type": "execute_result",
          "data": {
            "text/plain": [
              "                                                    text    label  enco\n",
              "0                                i didnt feel humiliated  sadness     4\n",
              "1      i can go from feeling so hopeless to so damned...  sadness     4\n",
              "2       im grabbing a minute to post i feel greedy wrong    anger     0\n",
              "3      i am ever feeling nostalgic about the fireplac...     love     3\n",
              "4                                   i am feeling grouchy    anger     0\n",
              "...                                                  ...      ...   ...\n",
              "15995  i just had a very brief time in the beanbag an...  sadness     4\n",
              "15996  i am now turning and i feel pathetic that i am...  sadness     4\n",
              "15997                     i feel strong and good overall      joy     2\n",
              "15998  i feel like this was such a rude comment and i...    anger     0\n",
              "15999  i know a lot but i feel so stupid because i ca...  sadness     4\n",
              "\n",
              "[16000 rows x 3 columns]"
            ],
            "text/html": [
              "\n",
              "  <div id=\"df-fdd4838d-39cb-43ac-b0dc-b658dded7c9d\">\n",
              "    <div class=\"colab-df-container\">\n",
              "      <div>\n",
              "<style scoped>\n",
              "    .dataframe tbody tr th:only-of-type {\n",
              "        vertical-align: middle;\n",
              "    }\n",
              "\n",
              "    .dataframe tbody tr th {\n",
              "        vertical-align: top;\n",
              "    }\n",
              "\n",
              "    .dataframe thead th {\n",
              "        text-align: right;\n",
              "    }\n",
              "</style>\n",
              "<table border=\"1\" class=\"dataframe\">\n",
              "  <thead>\n",
              "    <tr style=\"text-align: right;\">\n",
              "      <th></th>\n",
              "      <th>text</th>\n",
              "      <th>label</th>\n",
              "      <th>enco</th>\n",
              "    </tr>\n",
              "  </thead>\n",
              "  <tbody>\n",
              "    <tr>\n",
              "      <th>0</th>\n",
              "      <td>i didnt feel humiliated</td>\n",
              "      <td>sadness</td>\n",
              "      <td>4</td>\n",
              "    </tr>\n",
              "    <tr>\n",
              "      <th>1</th>\n",
              "      <td>i can go from feeling so hopeless to so damned...</td>\n",
              "      <td>sadness</td>\n",
              "      <td>4</td>\n",
              "    </tr>\n",
              "    <tr>\n",
              "      <th>2</th>\n",
              "      <td>im grabbing a minute to post i feel greedy wrong</td>\n",
              "      <td>anger</td>\n",
              "      <td>0</td>\n",
              "    </tr>\n",
              "    <tr>\n",
              "      <th>3</th>\n",
              "      <td>i am ever feeling nostalgic about the fireplac...</td>\n",
              "      <td>love</td>\n",
              "      <td>3</td>\n",
              "    </tr>\n",
              "    <tr>\n",
              "      <th>4</th>\n",
              "      <td>i am feeling grouchy</td>\n",
              "      <td>anger</td>\n",
              "      <td>0</td>\n",
              "    </tr>\n",
              "    <tr>\n",
              "      <th>...</th>\n",
              "      <td>...</td>\n",
              "      <td>...</td>\n",
              "      <td>...</td>\n",
              "    </tr>\n",
              "    <tr>\n",
              "      <th>15995</th>\n",
              "      <td>i just had a very brief time in the beanbag an...</td>\n",
              "      <td>sadness</td>\n",
              "      <td>4</td>\n",
              "    </tr>\n",
              "    <tr>\n",
              "      <th>15996</th>\n",
              "      <td>i am now turning and i feel pathetic that i am...</td>\n",
              "      <td>sadness</td>\n",
              "      <td>4</td>\n",
              "    </tr>\n",
              "    <tr>\n",
              "      <th>15997</th>\n",
              "      <td>i feel strong and good overall</td>\n",
              "      <td>joy</td>\n",
              "      <td>2</td>\n",
              "    </tr>\n",
              "    <tr>\n",
              "      <th>15998</th>\n",
              "      <td>i feel like this was such a rude comment and i...</td>\n",
              "      <td>anger</td>\n",
              "      <td>0</td>\n",
              "    </tr>\n",
              "    <tr>\n",
              "      <th>15999</th>\n",
              "      <td>i know a lot but i feel so stupid because i ca...</td>\n",
              "      <td>sadness</td>\n",
              "      <td>4</td>\n",
              "    </tr>\n",
              "  </tbody>\n",
              "</table>\n",
              "<p>16000 rows × 3 columns</p>\n",
              "</div>\n",
              "      <button class=\"colab-df-convert\" onclick=\"convertToInteractive('df-fdd4838d-39cb-43ac-b0dc-b658dded7c9d')\"\n",
              "              title=\"Convert this dataframe to an interactive table.\"\n",
              "              style=\"display:none;\">\n",
              "        \n",
              "  <svg xmlns=\"http://www.w3.org/2000/svg\" height=\"24px\"viewBox=\"0 0 24 24\"\n",
              "       width=\"24px\">\n",
              "    <path d=\"M0 0h24v24H0V0z\" fill=\"none\"/>\n",
              "    <path d=\"M18.56 5.44l.94 2.06.94-2.06 2.06-.94-2.06-.94-.94-2.06-.94 2.06-2.06.94zm-11 1L8.5 8.5l.94-2.06 2.06-.94-2.06-.94L8.5 2.5l-.94 2.06-2.06.94zm10 10l.94 2.06.94-2.06 2.06-.94-2.06-.94-.94-2.06-.94 2.06-2.06.94z\"/><path d=\"M17.41 7.96l-1.37-1.37c-.4-.4-.92-.59-1.43-.59-.52 0-1.04.2-1.43.59L10.3 9.45l-7.72 7.72c-.78.78-.78 2.05 0 2.83L4 21.41c.39.39.9.59 1.41.59.51 0 1.02-.2 1.41-.59l7.78-7.78 2.81-2.81c.8-.78.8-2.07 0-2.86zM5.41 20L4 18.59l7.72-7.72 1.47 1.35L5.41 20z\"/>\n",
              "  </svg>\n",
              "      </button>\n",
              "      \n",
              "  <style>\n",
              "    .colab-df-container {\n",
              "      display:flex;\n",
              "      flex-wrap:wrap;\n",
              "      gap: 12px;\n",
              "    }\n",
              "\n",
              "    .colab-df-convert {\n",
              "      background-color: #E8F0FE;\n",
              "      border: none;\n",
              "      border-radius: 50%;\n",
              "      cursor: pointer;\n",
              "      display: none;\n",
              "      fill: #1967D2;\n",
              "      height: 32px;\n",
              "      padding: 0 0 0 0;\n",
              "      width: 32px;\n",
              "    }\n",
              "\n",
              "    .colab-df-convert:hover {\n",
              "      background-color: #E2EBFA;\n",
              "      box-shadow: 0px 1px 2px rgba(60, 64, 67, 0.3), 0px 1px 3px 1px rgba(60, 64, 67, 0.15);\n",
              "      fill: #174EA6;\n",
              "    }\n",
              "\n",
              "    [theme=dark] .colab-df-convert {\n",
              "      background-color: #3B4455;\n",
              "      fill: #D2E3FC;\n",
              "    }\n",
              "\n",
              "    [theme=dark] .colab-df-convert:hover {\n",
              "      background-color: #434B5C;\n",
              "      box-shadow: 0px 1px 3px 1px rgba(0, 0, 0, 0.15);\n",
              "      filter: drop-shadow(0px 1px 2px rgba(0, 0, 0, 0.3));\n",
              "      fill: #FFFFFF;\n",
              "    }\n",
              "  </style>\n",
              "\n",
              "      <script>\n",
              "        const buttonEl =\n",
              "          document.querySelector('#df-fdd4838d-39cb-43ac-b0dc-b658dded7c9d button.colab-df-convert');\n",
              "        buttonEl.style.display =\n",
              "          google.colab.kernel.accessAllowed ? 'block' : 'none';\n",
              "\n",
              "        async function convertToInteractive(key) {\n",
              "          const element = document.querySelector('#df-fdd4838d-39cb-43ac-b0dc-b658dded7c9d');\n",
              "          const dataTable =\n",
              "            await google.colab.kernel.invokeFunction('convertToInteractive',\n",
              "                                                     [key], {});\n",
              "          if (!dataTable) return;\n",
              "\n",
              "          const docLinkHtml = 'Like what you see? Visit the ' +\n",
              "            '<a target=\"_blank\" href=https://colab.research.google.com/notebooks/data_table.ipynb>data table notebook</a>'\n",
              "            + ' to learn more about interactive tables.';\n",
              "          element.innerHTML = '';\n",
              "          dataTable['output_type'] = 'display_data';\n",
              "          await google.colab.output.renderOutput(dataTable, element);\n",
              "          const docLink = document.createElement('div');\n",
              "          docLink.innerHTML = docLinkHtml;\n",
              "          element.appendChild(docLink);\n",
              "        }\n",
              "      </script>\n",
              "    </div>\n",
              "  </div>\n",
              "  "
            ]
          },
          "metadata": {},
          "execution_count": 21
        }
      ]
    },
    {
      "cell_type": "code",
      "source": [
        "dfTrain['label'].value_counts()"
      ],
      "metadata": {
        "colab": {
          "base_uri": "https://localhost:8080/"
        },
        "id": "QvBIAORbotwo",
        "outputId": "1086a0d8-3e7d-4a6f-f655-96391d7421c8"
      },
      "execution_count": 23,
      "outputs": [
        {
          "output_type": "execute_result",
          "data": {
            "text/plain": [
              "joy         5362\n",
              "sadness     4666\n",
              "anger       2159\n",
              "fear        1937\n",
              "love        1304\n",
              "surprise     572\n",
              "Name: label, dtype: int64"
            ]
          },
          "metadata": {},
          "execution_count": 23
        }
      ]
    },
    {
      "cell_type": "code",
      "source": [
        "dfTest['label'].value_counts()"
      ],
      "metadata": {
        "colab": {
          "base_uri": "https://localhost:8080/"
        },
        "id": "FFbm-ISMiVlg",
        "outputId": "5ef142d9-88cf-43b7-859d-5c9d8cb806aa"
      },
      "execution_count": 27,
      "outputs": [
        {
          "output_type": "execute_result",
          "data": {
            "text/plain": [
              "joy         695\n",
              "sadness     581\n",
              "anger       275\n",
              "fear        224\n",
              "love        159\n",
              "surprise     66\n",
              "Name: label, dtype: int64"
            ]
          },
          "metadata": {},
          "execution_count": 27
        }
      ]
    },
    {
      "cell_type": "code",
      "source": [],
      "metadata": {
        "id": "1yMElVHGihbI"
      },
      "execution_count": null,
      "outputs": []
    },
    {
      "cell_type": "code",
      "source": [
        "import nltk\n",
        "from nltk.corpus import stopwords\n",
        "from nltk.tokenize import word_tokenize\n",
        "stopwords = stopwords.words('english')"
      ],
      "metadata": {
        "id": "K8zomhPYVWS8"
      },
      "execution_count": 28,
      "outputs": []
    },
    {
      "cell_type": "code",
      "source": [
        "def lower_text(text):\n",
        "    return text.lower()\n",
        "\n",
        "def remove_number(text):\n",
        "    num = re.compile(r'[-+]?[.\\d]*[\\d]+[:,.\\d]*')\n",
        "    return num.sub(r'', text)\n",
        "\n",
        "def remove_punct(text):\n",
        "    punctuations = '@#!?+&*[]-%.:/();$=><|{}^' + \"'`\"\n",
        "    for p in punctuations:\n",
        "        text = text.replace(p, f' {p} ')\n",
        "    return text\n",
        "\n",
        "def remove_stopwords(text):\n",
        "    text = ' '.join([word for word in text.split() if word not in (stopwords)])\n",
        "    return text"
      ],
      "metadata": {
        "id": "SWQmloADjbf8"
      },
      "execution_count": 29,
      "outputs": []
    },
    {
      "cell_type": "code",
      "source": [
        "def clean_text(text):\n",
        "    text = lower_text(text)\n",
        "    text = remove_number(text)\n",
        "    text = remove_punct(text)\n",
        "    text = remove_stopwords(text)\n",
        "\n",
        "    return text"
      ],
      "metadata": {
        "id": "2LlAyjxYjw3h"
      },
      "execution_count": 30,
      "outputs": []
    },
    {
      "cell_type": "code",
      "source": [
        "dfTrain[\"clean_text\"] = dfTrain[\"text\"].apply(clean_text)\n",
        "dfTest[\"clean_text\"] = dfTest[\"text\"].apply(clean_text)\n",
        "dfVal[\"clean_text\"] = dfVal[\"text\"].apply(clean_text)"
      ],
      "metadata": {
        "id": "B-hVtHorjyd_"
      },
      "execution_count": 32,
      "outputs": []
    },
    {
      "cell_type": "code",
      "source": [
        "from sklearn.preprocessing import LabelEncoder\n",
        "le = LabelEncoder()"
      ],
      "metadata": {
        "id": "hRnG6cCZmcQ1"
      },
      "execution_count": 33,
      "outputs": []
    },
    {
      "cell_type": "code",
      "source": [
        "dfTrain[\"enco\"] = le.fit_transform(dfTrain[\"label\"])\n",
        "dfVal[\"enco\"] = le.transform(dfVal[\"label\"])\n",
        "dfTest[\"enco\"] = le.transform(dfTest[\"label\"])"
      ],
      "metadata": {
        "id": "L-mrtf33kJ9b"
      },
      "execution_count": 34,
      "outputs": []
    },
    {
      "cell_type": "code",
      "source": [
        "dfTrain[['label', 'enco']].drop_duplicates(keep='first')"
      ],
      "metadata": {
        "colab": {
          "base_uri": "https://localhost:8080/",
          "height": 237
        },
        "id": "l4nEGsFOkXzC",
        "outputId": "7ffe363c-020f-48f7-9a38-9bfc88b0d9e6"
      },
      "execution_count": 35,
      "outputs": [
        {
          "output_type": "execute_result",
          "data": {
            "text/plain": [
              "      label  enco\n",
              "0   sadness     4\n",
              "2     anger     0\n",
              "3      love     3\n",
              "6  surprise     5\n",
              "7      fear     1\n",
              "8       joy     2"
            ],
            "text/html": [
              "\n",
              "  <div id=\"df-7d042521-fbc0-4d18-8a62-b76866b0671c\">\n",
              "    <div class=\"colab-df-container\">\n",
              "      <div>\n",
              "<style scoped>\n",
              "    .dataframe tbody tr th:only-of-type {\n",
              "        vertical-align: middle;\n",
              "    }\n",
              "\n",
              "    .dataframe tbody tr th {\n",
              "        vertical-align: top;\n",
              "    }\n",
              "\n",
              "    .dataframe thead th {\n",
              "        text-align: right;\n",
              "    }\n",
              "</style>\n",
              "<table border=\"1\" class=\"dataframe\">\n",
              "  <thead>\n",
              "    <tr style=\"text-align: right;\">\n",
              "      <th></th>\n",
              "      <th>label</th>\n",
              "      <th>enco</th>\n",
              "    </tr>\n",
              "  </thead>\n",
              "  <tbody>\n",
              "    <tr>\n",
              "      <th>0</th>\n",
              "      <td>sadness</td>\n",
              "      <td>4</td>\n",
              "    </tr>\n",
              "    <tr>\n",
              "      <th>2</th>\n",
              "      <td>anger</td>\n",
              "      <td>0</td>\n",
              "    </tr>\n",
              "    <tr>\n",
              "      <th>3</th>\n",
              "      <td>love</td>\n",
              "      <td>3</td>\n",
              "    </tr>\n",
              "    <tr>\n",
              "      <th>6</th>\n",
              "      <td>surprise</td>\n",
              "      <td>5</td>\n",
              "    </tr>\n",
              "    <tr>\n",
              "      <th>7</th>\n",
              "      <td>fear</td>\n",
              "      <td>1</td>\n",
              "    </tr>\n",
              "    <tr>\n",
              "      <th>8</th>\n",
              "      <td>joy</td>\n",
              "      <td>2</td>\n",
              "    </tr>\n",
              "  </tbody>\n",
              "</table>\n",
              "</div>\n",
              "      <button class=\"colab-df-convert\" onclick=\"convertToInteractive('df-7d042521-fbc0-4d18-8a62-b76866b0671c')\"\n",
              "              title=\"Convert this dataframe to an interactive table.\"\n",
              "              style=\"display:none;\">\n",
              "        \n",
              "  <svg xmlns=\"http://www.w3.org/2000/svg\" height=\"24px\"viewBox=\"0 0 24 24\"\n",
              "       width=\"24px\">\n",
              "    <path d=\"M0 0h24v24H0V0z\" fill=\"none\"/>\n",
              "    <path d=\"M18.56 5.44l.94 2.06.94-2.06 2.06-.94-2.06-.94-.94-2.06-.94 2.06-2.06.94zm-11 1L8.5 8.5l.94-2.06 2.06-.94-2.06-.94L8.5 2.5l-.94 2.06-2.06.94zm10 10l.94 2.06.94-2.06 2.06-.94-2.06-.94-.94-2.06-.94 2.06-2.06.94z\"/><path d=\"M17.41 7.96l-1.37-1.37c-.4-.4-.92-.59-1.43-.59-.52 0-1.04.2-1.43.59L10.3 9.45l-7.72 7.72c-.78.78-.78 2.05 0 2.83L4 21.41c.39.39.9.59 1.41.59.51 0 1.02-.2 1.41-.59l7.78-7.78 2.81-2.81c.8-.78.8-2.07 0-2.86zM5.41 20L4 18.59l7.72-7.72 1.47 1.35L5.41 20z\"/>\n",
              "  </svg>\n",
              "      </button>\n",
              "      \n",
              "  <style>\n",
              "    .colab-df-container {\n",
              "      display:flex;\n",
              "      flex-wrap:wrap;\n",
              "      gap: 12px;\n",
              "    }\n",
              "\n",
              "    .colab-df-convert {\n",
              "      background-color: #E8F0FE;\n",
              "      border: none;\n",
              "      border-radius: 50%;\n",
              "      cursor: pointer;\n",
              "      display: none;\n",
              "      fill: #1967D2;\n",
              "      height: 32px;\n",
              "      padding: 0 0 0 0;\n",
              "      width: 32px;\n",
              "    }\n",
              "\n",
              "    .colab-df-convert:hover {\n",
              "      background-color: #E2EBFA;\n",
              "      box-shadow: 0px 1px 2px rgba(60, 64, 67, 0.3), 0px 1px 3px 1px rgba(60, 64, 67, 0.15);\n",
              "      fill: #174EA6;\n",
              "    }\n",
              "\n",
              "    [theme=dark] .colab-df-convert {\n",
              "      background-color: #3B4455;\n",
              "      fill: #D2E3FC;\n",
              "    }\n",
              "\n",
              "    [theme=dark] .colab-df-convert:hover {\n",
              "      background-color: #434B5C;\n",
              "      box-shadow: 0px 1px 3px 1px rgba(0, 0, 0, 0.15);\n",
              "      filter: drop-shadow(0px 1px 2px rgba(0, 0, 0, 0.3));\n",
              "      fill: #FFFFFF;\n",
              "    }\n",
              "  </style>\n",
              "\n",
              "      <script>\n",
              "        const buttonEl =\n",
              "          document.querySelector('#df-7d042521-fbc0-4d18-8a62-b76866b0671c button.colab-df-convert');\n",
              "        buttonEl.style.display =\n",
              "          google.colab.kernel.accessAllowed ? 'block' : 'none';\n",
              "\n",
              "        async function convertToInteractive(key) {\n",
              "          const element = document.querySelector('#df-7d042521-fbc0-4d18-8a62-b76866b0671c');\n",
              "          const dataTable =\n",
              "            await google.colab.kernel.invokeFunction('convertToInteractive',\n",
              "                                                     [key], {});\n",
              "          if (!dataTable) return;\n",
              "\n",
              "          const docLinkHtml = 'Like what you see? Visit the ' +\n",
              "            '<a target=\"_blank\" href=https://colab.research.google.com/notebooks/data_table.ipynb>data table notebook</a>'\n",
              "            + ' to learn more about interactive tables.';\n",
              "          element.innerHTML = '';\n",
              "          dataTable['output_type'] = 'display_data';\n",
              "          await google.colab.output.renderOutput(dataTable, element);\n",
              "          const docLink = document.createElement('div');\n",
              "          docLink.innerHTML = docLinkHtml;\n",
              "          element.appendChild(docLink);\n",
              "        }\n",
              "      </script>\n",
              "    </div>\n",
              "  </div>\n",
              "  "
            ]
          },
          "metadata": {},
          "execution_count": 35
        }
      ]
    },
    {
      "cell_type": "code",
      "source": [
        "xTrain, xTest, yTrain, yTest = dfTrain.clean_text, dfVal.clean_text, dfTrain.enco, dfVal.enco"
      ],
      "metadata": {
        "id": "Hh1ZqruondVB"
      },
      "execution_count": 36,
      "outputs": []
    },
    {
      "cell_type": "code",
      "source": [
        "from keras.utils import np_utils\n",
        "from keras.preprocessing.text import Tokenizer\n",
        "from keras.utils import pad_sequences\n",
        "\n",
        "import tensorflow as tf\n",
        "from keras import layers\n",
        "from keras.models import Sequential\n",
        "\n",
        "epochs = 30\n",
        "act = \"swish\"\n",
        "optim = tf.keras.optimizers.Adam(learning_rate = 0.001)"
      ],
      "metadata": {
        "id": "rzroxPiJknQH"
      },
      "execution_count": 40,
      "outputs": []
    },
    {
      "cell_type": "code",
      "source": [
        "tokenizer = Tokenizer()\n",
        "tokenizer.fit_on_texts(xTrain)"
      ],
      "metadata": {
        "id": "UH8jE44UlBal"
      },
      "execution_count": 41,
      "outputs": []
    },
    {
      "cell_type": "code",
      "source": [
        "trainX = tokenizer.texts_to_sequences(xTrain)\n",
        "testX = tokenizer.texts_to_sequences(xTest)\n",
        "test = tokenizer.texts_to_sequences(dfTest.clean_text)\n",
        "\n",
        "vocabSize = len(tokenizer.word_index) + 1"
      ],
      "metadata": {
        "id": "xGWlEBgildsf"
      },
      "execution_count": 42,
      "outputs": []
    },
    {
      "cell_type": "code",
      "source": [
        "import numpy as np"
      ],
      "metadata": {
        "id": "7zxyZUBYmHzi"
      },
      "execution_count": 44,
      "outputs": []
    },
    {
      "cell_type": "code",
      "source": [
        "lenTrain = [len(i) for i in trainX]\n",
        "lenTest = [len(i) for i in testX]\n",
        "length = lenTrain + lenTest\n",
        "\n",
        "maxlen = np.max(length)\n",
        "maxlen"
      ],
      "metadata": {
        "colab": {
          "base_uri": "https://localhost:8080/"
        },
        "id": "v2iy1tPZlmhx",
        "outputId": "116395f8-1ebf-4db4-a39d-06a61f3a2b3d"
      },
      "execution_count": 46,
      "outputs": [
        {
          "output_type": "execute_result",
          "data": {
            "text/plain": [
              "35"
            ]
          },
          "metadata": {},
          "execution_count": 46
        }
      ]
    },
    {
      "cell_type": "code",
      "source": [
        "trainX = pad_sequences(trainX, padding = 'post', maxlen = maxlen)\n",
        "testX = pad_sequences(testX, padding = 'post', maxlen = maxlen)\n",
        "test = pad_sequences(test, padding = 'post', maxlen = maxlen)"
      ],
      "metadata": {
        "id": "Yb4f26p6mGme"
      },
      "execution_count": 47,
      "outputs": []
    },
    {
      "cell_type": "code",
      "source": [
        "dummyTestY = np_utils.to_categorical(yTest)\n",
        "dummyTrainY = np_utils.to_categorical(yTrain)"
      ],
      "metadata": {
        "id": "Uh7A7wpqmcVw"
      },
      "execution_count": 48,
      "outputs": []
    },
    {
      "cell_type": "code",
      "source": [],
      "metadata": {
        "id": "DqEmnE4JmoG_"
      },
      "execution_count": 48,
      "outputs": []
    },
    {
      "cell_type": "code",
      "source": [
        "!kaggle datasets download -d takuok/glove840b300dtxt"
      ],
      "metadata": {
        "colab": {
          "base_uri": "https://localhost:8080/"
        },
        "id": "hIo0yldBo-v0",
        "outputId": "3c7e0800-f1cc-46ae-b5c5-c40266043c0b"
      },
      "execution_count": 51,
      "outputs": [
        {
          "output_type": "stream",
          "name": "stdout",
          "text": [
            "Downloading glove840b300dtxt.zip to /content\n",
            "100% 2.08G/2.08G [00:26<00:00, 98.2MB/s]\n",
            "100% 2.08G/2.08G [00:26<00:00, 85.4MB/s]\n"
          ]
        }
      ]
    },
    {
      "cell_type": "code",
      "source": [
        "!unzip '/content/glove840b300dtxt.zip'"
      ],
      "metadata": {
        "colab": {
          "base_uri": "https://localhost:8080/"
        },
        "id": "2QF1wf_HpBHv",
        "outputId": "5ff9f0ed-6390-4bc2-9b1e-64e1b000a3aa"
      },
      "execution_count": 52,
      "outputs": [
        {
          "output_type": "stream",
          "name": "stdout",
          "text": [
            "Archive:  /content/glove840b300dtxt.zip\n",
            "  inflating: glove.840B.300d.txt     \n"
          ]
        }
      ]
    },
    {
      "cell_type": "code",
      "source": [
        "import tqdm"
      ],
      "metadata": {
        "id": "g2ONGtx-pMj4"
      },
      "execution_count": 53,
      "outputs": []
    },
    {
      "cell_type": "code",
      "source": [
        "def get_embedding_vectors(tokenizer, dim=300):\n",
        "    embedding_index = {}\n",
        "    with open('/content/glove.840B.300d.txt','r') as f:\n",
        "        for line in tqdm.tqdm(f, \"Reading GloVe\"):\n",
        "            values = line.split()\n",
        "            word = ''.join(values[:-300])\n",
        "            vectors = np.asarray(values[-300:], dtype='float32')\n",
        "            embedding_index[word] = vectors\n",
        "\n",
        "    word_index = tokenizer.word_index\n",
        "    embedding_matrix = np.zeros((len(word_index)+1, dim))\n",
        "    for word, i in word_index.items():\n",
        "        embedding_vector = embedding_index.get(word)\n",
        "        if embedding_vector is not None:\n",
        "            # words not found will be 0s\n",
        "            embedding_matrix[i] = embedding_vector\n",
        "\n",
        "    return embedding_matrix"
      ],
      "metadata": {
        "id": "4L4IrW93mydh"
      },
      "execution_count": 56,
      "outputs": []
    },
    {
      "cell_type": "code",
      "source": [
        "embedding_matrix = get_embedding_vectors(tokenizer)"
      ],
      "metadata": {
        "colab": {
          "base_uri": "https://localhost:8080/"
        },
        "id": "NPhAnZQQoqZp",
        "outputId": "09ad97e3-f4c5-48d5-ffe2-58e874b8e34d"
      },
      "execution_count": 57,
      "outputs": [
        {
          "output_type": "stream",
          "name": "stderr",
          "text": [
            "Reading GloVe: 2196018it [03:22, 10870.47it/s]\n"
          ]
        }
      ]
    },
    {
      "cell_type": "code",
      "source": [],
      "metadata": {
        "id": "LzPE3MyOotJq"
      },
      "execution_count": 57,
      "outputs": []
    },
    {
      "cell_type": "code",
      "source": [
        "embedding_dim = 300\n",
        "\n",
        "model = Sequential()\n",
        "model.add(layers.Embedding(input_dim=vocabSize, output_dim=embedding_dim, weights = [embedding_matrix], input_length=maxlen))\n",
        "model.add(layers.Dropout(0.3))\n",
        "model.add(layers.Conv1D(filters=32, kernel_size=3, activation=act))\n",
        "model.add(layers.MaxPool1D(pool_size=3))\n",
        "model.add(layers.Dropout(0.3))\n",
        "model.add(layers.Conv1D(filters=32, kernel_size=3, activation=act))\n",
        "model.add(layers.MaxPool1D(pool_size=3))\n",
        "model.add(layers.Dropout(0.3))\n",
        "model.add(layers.Bidirectional(layers.LSTM(256, recurrent_dropout=0.3)))\n",
        "model.add(layers.Dropout(0.3))\n",
        "model.add(layers.Dense(256,activation=act))\n",
        "model.add(layers.Dropout(0.3))\n",
        "model.add(layers.Dense(6, activation=\"softmax\"))\n",
        "model.compile(optimizer=optim, loss=\"categorical_crossentropy\",metrics=[\"accuracy\"])\n",
        "model.summary()"
      ],
      "metadata": {
        "colab": {
          "base_uri": "https://localhost:8080/"
        },
        "id": "TQV7qIkfp1Vd",
        "outputId": "45802bc2-932d-41ff-aa6c-915f44308f98"
      },
      "execution_count": 58,
      "outputs": [
        {
          "output_type": "stream",
          "name": "stdout",
          "text": [
            "Model: \"sequential\"\n",
            "_________________________________________________________________\n",
            " Layer (type)                Output Shape              Param #   \n",
            "=================================================================\n",
            " embedding (Embedding)       (None, 35, 300)           4519500   \n",
            "                                                                 \n",
            " dropout (Dropout)           (None, 35, 300)           0         \n",
            "                                                                 \n",
            " conv1d (Conv1D)             (None, 33, 32)            28832     \n",
            "                                                                 \n",
            " max_pooling1d (MaxPooling1D  (None, 11, 32)           0         \n",
            " )                                                               \n",
            "                                                                 \n",
            " dropout_1 (Dropout)         (None, 11, 32)            0         \n",
            "                                                                 \n",
            " conv1d_1 (Conv1D)           (None, 9, 32)             3104      \n",
            "                                                                 \n",
            " max_pooling1d_1 (MaxPooling  (None, 3, 32)            0         \n",
            " 1D)                                                             \n",
            "                                                                 \n",
            " dropout_2 (Dropout)         (None, 3, 32)             0         \n",
            "                                                                 \n",
            " bidirectional (Bidirectiona  (None, 512)              591872    \n",
            " l)                                                              \n",
            "                                                                 \n",
            " dropout_3 (Dropout)         (None, 512)               0         \n",
            "                                                                 \n",
            " dense (Dense)               (None, 256)               131328    \n",
            "                                                                 \n",
            " dropout_4 (Dropout)         (None, 256)               0         \n",
            "                                                                 \n",
            " dense_1 (Dense)             (None, 6)                 1542      \n",
            "                                                                 \n",
            "=================================================================\n",
            "Total params: 5,276,178\n",
            "Trainable params: 5,276,178\n",
            "Non-trainable params: 0\n",
            "_________________________________________________________________\n"
          ]
        }
      ]
    },
    {
      "cell_type": "code",
      "source": [
        "checkpoint_filepath = 'content/Checkpoint/checkpoint'\n",
        "model_checkpoint_callback = tf.keras.callbacks.ModelCheckpoint(\n",
        "    filepath=checkpoint_filepath,\n",
        "    save_weights_only=True,\n",
        "    monitor='val_accuracy',\n",
        "    mode='max',\n",
        "    save_best_only=True)"
      ],
      "metadata": {
        "id": "1eCRSVitqYcE"
      },
      "execution_count": 59,
      "outputs": []
    },
    {
      "cell_type": "code",
      "source": [
        "history = model.fit(trainX, dummyTrainY, epochs=17, verbose=1, validation_data=(testX, dummyTestY), batch_size=128, callbacks=[model_checkpoint_callback])\n",
        "loss, accuracy = model.evaluate(trainX, dummyTrainY, verbose=0)\n",
        "print(\"Training Accuracy: {:.4f}\".format(accuracy))\n",
        "loss, accuracy = model.evaluate(testX, dummyTestY, verbose=0)\n",
        "print(\"Testing Accuracy:  {:.4f}\".format(accuracy))"
      ],
      "metadata": {
        "colab": {
          "base_uri": "https://localhost:8080/"
        },
        "id": "Z5oWjntCqjUV",
        "outputId": "024755db-4ed4-4c99-ce2f-da0892774a48"
      },
      "execution_count": 69,
      "outputs": [
        {
          "output_type": "stream",
          "name": "stdout",
          "text": [
            "Epoch 1/17\n",
            "125/125 [==============================] - 25s 199ms/step - loss: 0.1100 - accuracy: 0.9616 - val_loss: 0.2194 - val_accuracy: 0.9245\n",
            "Epoch 2/17\n",
            "125/125 [==============================] - 26s 204ms/step - loss: 0.1030 - accuracy: 0.9653 - val_loss: 0.2239 - val_accuracy: 0.9265\n",
            "Epoch 3/17\n",
            "125/125 [==============================] - 25s 201ms/step - loss: 0.0974 - accuracy: 0.9661 - val_loss: 0.2444 - val_accuracy: 0.9205\n",
            "Epoch 4/17\n",
            "125/125 [==============================] - 25s 198ms/step - loss: 0.0879 - accuracy: 0.9697 - val_loss: 0.2383 - val_accuracy: 0.9205\n",
            "Epoch 5/17\n",
            "125/125 [==============================] - 25s 202ms/step - loss: 0.0919 - accuracy: 0.9690 - val_loss: 0.2406 - val_accuracy: 0.9210\n",
            "Epoch 6/17\n",
            "125/125 [==============================] - 25s 201ms/step - loss: 0.0850 - accuracy: 0.9708 - val_loss: 0.2455 - val_accuracy: 0.9210\n",
            "Epoch 7/17\n",
            "125/125 [==============================] - 25s 203ms/step - loss: 0.0784 - accuracy: 0.9726 - val_loss: 0.2487 - val_accuracy: 0.9185\n",
            "Epoch 8/17\n",
            "125/125 [==============================] - 26s 207ms/step - loss: 0.0742 - accuracy: 0.9738 - val_loss: 0.2355 - val_accuracy: 0.9195\n",
            "Epoch 9/17\n",
            "125/125 [==============================] - 26s 210ms/step - loss: 0.0661 - accuracy: 0.9766 - val_loss: 0.2500 - val_accuracy: 0.9195\n",
            "Epoch 10/17\n",
            "125/125 [==============================] - 26s 209ms/step - loss: 0.0717 - accuracy: 0.9756 - val_loss: 0.2422 - val_accuracy: 0.9195\n",
            "Epoch 11/17\n",
            "125/125 [==============================] - 26s 205ms/step - loss: 0.0661 - accuracy: 0.9762 - val_loss: 0.2667 - val_accuracy: 0.9180\n",
            "Epoch 12/17\n",
            "125/125 [==============================] - 26s 209ms/step - loss: 0.0623 - accuracy: 0.9787 - val_loss: 0.2600 - val_accuracy: 0.9190\n",
            "Epoch 13/17\n",
            "125/125 [==============================] - 32s 255ms/step - loss: 0.0567 - accuracy: 0.9806 - val_loss: 0.2551 - val_accuracy: 0.9245\n",
            "Epoch 14/17\n",
            "125/125 [==============================] - 25s 201ms/step - loss: 0.0581 - accuracy: 0.9798 - val_loss: 0.2676 - val_accuracy: 0.9210\n",
            "Epoch 15/17\n",
            "125/125 [==============================] - 26s 208ms/step - loss: 0.0569 - accuracy: 0.9801 - val_loss: 0.2658 - val_accuracy: 0.9175\n",
            "Epoch 16/17\n",
            "125/125 [==============================] - 26s 203ms/step - loss: 0.0541 - accuracy: 0.9807 - val_loss: 0.2797 - val_accuracy: 0.9220\n",
            "Epoch 17/17\n",
            "125/125 [==============================] - 25s 202ms/step - loss: 0.0511 - accuracy: 0.9818 - val_loss: 0.2849 - val_accuracy: 0.9230\n",
            "Training Accuracy: 0.9955\n",
            "Testing Accuracy:  0.9230\n"
          ]
        }
      ]
    },
    {
      "cell_type": "code",
      "source": [
        "model.save('content/emotionAnalysis.h5')"
      ],
      "metadata": {
        "id": "IBPmARIVqxu1"
      },
      "execution_count": 70,
      "outputs": []
    },
    {
      "cell_type": "code",
      "source": [
        "print(f\"Best Accuracy Achieved by Model: {max(history.history['val_accuracy'])}\")"
      ],
      "metadata": {
        "colab": {
          "base_uri": "https://localhost:8080/"
        },
        "id": "yPQmw2FCuw8m",
        "outputId": "a5d06eb3-32f0-460e-f084-82d08d818e92"
      },
      "execution_count": 73,
      "outputs": [
        {
          "output_type": "stream",
          "name": "stdout",
          "text": [
            "Best Accuracy Achieved by Model: 0.9265000224113464\n"
          ]
        }
      ]
    },
    {
      "cell_type": "code",
      "source": [
        "model.load_weights(checkpoint_filepath)"
      ],
      "metadata": {
        "colab": {
          "base_uri": "https://localhost:8080/"
        },
        "id": "cJR5Istuu3R0",
        "outputId": "13fcd125-2637-47a9-daee-708f3c4f6ddd"
      },
      "execution_count": 74,
      "outputs": [
        {
          "output_type": "execute_result",
          "data": {
            "text/plain": [
              "<tensorflow.python.checkpoint.checkpoint.CheckpointLoadStatus at 0x7fc1b44e1480>"
            ]
          },
          "metadata": {},
          "execution_count": 74
        }
      ]
    },
    {
      "cell_type": "code",
      "source": [
        "predict = model.predict(test)\n",
        "predict_class = np.argmax(predict, axis=1)\n",
        "predict_class = np.array(predict_class)\n",
        "predict_class"
      ],
      "metadata": {
        "colab": {
          "base_uri": "https://localhost:8080/"
        },
        "id": "tyHgIqtKu6RB",
        "outputId": "1250ca24-cb88-4e6c-8d33-166f1a7ff471"
      },
      "execution_count": 76,
      "outputs": [
        {
          "output_type": "stream",
          "name": "stdout",
          "text": [
            "63/63 [==============================] - 3s 27ms/step\n"
          ]
        },
        {
          "output_type": "execute_result",
          "data": {
            "text/plain": [
              "array([4, 4, 4, ..., 2, 2, 5])"
            ]
          },
          "metadata": {},
          "execution_count": 76
        }
      ]
    },
    {
      "cell_type": "code",
      "source": [
        "from sklearn.metrics import confusion_matrix\n",
        "\n",
        "conf = confusion_matrix(dfTest[\"enco\"], predict_class)\n",
        "conf"
      ],
      "metadata": {
        "colab": {
          "base_uri": "https://localhost:8080/"
        },
        "id": "RKV_vUOiu7eD",
        "outputId": "622212a9-ab56-40c5-855e-82a5fdf2cddc"
      },
      "execution_count": 77,
      "outputs": [
        {
          "output_type": "execute_result",
          "data": {
            "text/plain": [
              "array([[261,   2,   3,   0,   8,   1],\n",
              "       [ 13, 194,   0,   0,   7,  10],\n",
              "       [  4,   1, 647,  36,   0,   7],\n",
              "       [  2,   0,  19, 137,   1,   0],\n",
              "       [ 16,   6,   6,   2, 550,   1],\n",
              "       [  2,  11,   5,   0,   3,  45]])"
            ]
          },
          "metadata": {},
          "execution_count": 77
        }
      ]
    },
    {
      "cell_type": "code",
      "source": [
        "df_cm = pd.DataFrame(conf, index=[\"anger\", \"fear\", \"joy\", \"love\", \"sadness\", \"surprise\"], columns=[\"anger\", \"fear\", \"joy\", \"love\", \"sadness\", \"surprise\"])\n",
        "plt.figure(figsize = (10,7))\n",
        "sns.heatmap(df_cm,annot=True, fmt =\"d\")"
      ],
      "metadata": {
        "colab": {
          "base_uri": "https://localhost:8080/",
          "height": 616
        },
        "id": "R9k3vj9bvHI2",
        "outputId": "b253c9cd-1603-4481-f75a-f479269b53ab"
      },
      "execution_count": 79,
      "outputs": [
        {
          "output_type": "execute_result",
          "data": {
            "text/plain": [
              "<Axes: >"
            ]
          },
          "metadata": {},
          "execution_count": 79
        },
        {
          "output_type": "display_data",
          "data": {
            "text/plain": [
              "<Figure size 1000x700 with 2 Axes>"
            ],
            "image/png": "[encoded data removed]"
          },
          "metadata": {}
        }
      ]
    },
    {
      "cell_type": "code",
      "source": [
        "from sklearn.metrics import classification_report\n",
        "\n",
        "print(classification_report(dfTest[\"enco\"], predict_class, target_names =[\"anger\", \"fear\", \"joy\", \"love\", \"sadness\", \"surprise\"]))"
      ],
      "metadata": {
        "colab": {
          "base_uri": "https://localhost:8080/"
        },
        "id": "Yr3CRSmgvJCc",
        "outputId": "dfbe2547-72c7-45d1-de22-ba56c0820d99"
      },
      "execution_count": 82,
      "outputs": [
        {
          "output_type": "stream",
          "name": "stdout",
          "text": [
            "              precision    recall  f1-score   support\n",
            "\n",
            "       anger       0.88      0.95      0.91       275\n",
            "        fear       0.91      0.87      0.89       224\n",
            "         joy       0.95      0.93      0.94       695\n",
            "        love       0.78      0.86      0.82       159\n",
            "     sadness       0.97      0.95      0.96       581\n",
            "    surprise       0.70      0.68      0.69        66\n",
            "\n",
            "    accuracy                           0.92      2000\n",
            "   macro avg       0.86      0.87      0.87      2000\n",
            "weighted avg       0.92      0.92      0.92      2000\n",
            "\n"
          ]
        }
      ]
    },
    {
      "cell_type": "code",
      "source": [],
      "metadata": {
        "id": "0WGv7Q8rvOw-"
      },
      "execution_count": null,
      "outputs": []
    }
  ]
}